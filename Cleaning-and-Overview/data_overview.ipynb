{
 "cells": [
  {
   "cell_type": "code",
   "execution_count": 47,
   "metadata": {},
   "outputs": [],
   "source": [
    "import pandas as pd\n",
    "import numpy as np\n",
    "import matplotlib.pyplot as plt"
   ]
  },
  {
   "cell_type": "markdown",
   "metadata": {},
   "source": [
    "# Data Cleaning and Processing"
   ]
  },
  {
   "cell_type": "markdown",
   "metadata": {},
   "source": [
    "## 0.1 Filling missing values"
   ]
  },
  {
   "cell_type": "code",
   "execution_count": 48,
   "metadata": {},
   "outputs": [
    {
     "data": {
      "text/plain": [
       "Index(['phone_brand', 'phone_model', 'store', 'price', 'currency', 'price_USD',\n",
       "       'storage', 'ram', 'Launch', 'Dimensions', 'Weight', 'Display_Type',\n",
       "       'Display_Size', 'Display_Resolution', 'OS', 'NFC', 'USB', 'BATTERY',\n",
       "       'Features_Sensors', 'Colors', 'Video', 'Chipset', 'CPU', 'GPU', 'Year',\n",
       "       'Foldable', 'PPI_Density', 'quantile_10', 'quantile_50', 'quantile_90',\n",
       "       'price_range'],\n",
       "      dtype='object')"
      ]
     },
     "execution_count": 48,
     "metadata": {},
     "output_type": "execute_result"
    }
   ],
   "source": [
    "data = pd.read_csv('../data/raw_data.csv')\n",
    "data.columns"
   ]
  },
  {
   "cell_type": "code",
   "execution_count": 49,
   "metadata": {},
   "outputs": [],
   "source": [
    "data.isnull().sum()[data.isnull().sum() > 0]\n",
    "data[data['Weight'].isnull()]\n",
    "\n",
    "# Drop Tab model, which not belongs to phone\n",
    "tab_index = data['phone_model'].apply(lambda x: 'Tab' in x)\n",
    "data = data[~tab_index]"
   ]
  },
  {
   "cell_type": "code",
   "execution_count": 50,
   "metadata": {},
   "outputs": [
    {
     "data": {
      "text/plain": [
       "Series([], dtype: int64)"
      ]
     },
     "execution_count": 50,
     "metadata": {},
     "output_type": "execute_result"
    }
   ],
   "source": [
    "# Filling the missing values with information from the internet\n",
    "data.loc[1042, 'Weight'] = 199.0\n",
    "data.loc[1151, 'Weight'] = 202.0\n",
    "data.loc[1395, 'Weight'] = 186.0\n",
    "data.isnull().sum()[data.isnull().sum() > 0]"
   ]
  },
  {
   "cell_type": "code",
   "execution_count": 51,
   "metadata": {},
   "outputs": [],
   "source": [
    "data['Launch'] = pd.to_datetime(data['Launch'])\n"
   ]
  },
  {
   "cell_type": "markdown",
   "metadata": {},
   "source": [
    "## 0.2 Processing some columns"
   ]
  },
  {
   "cell_type": "markdown",
   "metadata": {},
   "source": [
    "### 0.2.1 Averge the price of the same product (from different sellers)"
   ]
  },
  {
   "cell_type": "code",
   "execution_count": 52,
   "metadata": {},
   "outputs": [
    {
     "data": {
      "text/plain": [
       "706"
      ]
     },
     "execution_count": 52,
     "metadata": {},
     "output_type": "execute_result"
    }
   ],
   "source": [
    "info_cols = ['phone_brand', 'phone_model', 'storage', 'ram', 'Launch', 'Dimensions', 'Weight', 'Display_Type', 'Display_Resolution', 'NFC', 'USB', 'BATTERY', 'Features_Sensors', 'Colors', 'Video', 'Chipset', 'CPU', 'GPU', 'Year', 'Foldable', 'PPI_Density']\n",
    "data_reduced = data[info_cols + ['price_USD']]\n",
    "def compress_price_info(data):\n",
    "    average_price = data.groupby(info_cols).mean().reset_index()\n",
    "    return average_price\n",
    "data_reduced = compress_price_info(data_reduced)\n",
    "len(data_reduced)"
   ]
  },
  {
   "cell_type": "markdown",
   "metadata": {},
   "source": [
    "### 0.2.2 Handle `dimension` column\n",
    "1. split `dimension` into `length`, `width`, `height`\n",
    "2. calculate the `display_ratio` = `length` / `width`"
   ]
  },
  {
   "cell_type": "code",
   "execution_count": 53,
   "metadata": {},
   "outputs": [],
   "source": [
    "def transform_dimension(dim_str):\n",
    "    def tofloat(value):\n",
    "        try:\n",
    "            return float(value)\n",
    "        except ValueError:\n",
    "            return False\n",
    "    words = dim_str.replace('/', ' ').split()\n",
    "    dim = []\n",
    "    if len(words) < 3:\n",
    "        print(words)\n",
    "        TypeError('Dimension string is not in the correct format')\n",
    "    for i in range(len(words)):\n",
    "        digit = tofloat(words[i])\n",
    "        if digit:\n",
    "            dim.append(digit)\n",
    "            if len(dim) == 3:\n",
    "                break\n",
    "    # ratio rounded to 2 decimal places\n",
    "    ratio = round(dim[0] / dim[1], 1)\n",
    "    dim.append(ratio)\n",
    "    assert len(dim) == 4, dim\n",
    "    return dim\n",
    "\n",
    "## Create 4 new columns for the dimensions\n",
    "def create_new_dimensions(data):\n",
    "    data['Length'], data['Width'], data['Height'], data['Ratio'] = zip(*data['Dimensions'].map(transform_dimension))\n",
    "    return data\n",
    "data_reduced = create_new_dimensions(data_reduced)"
   ]
  },
  {
   "cell_type": "code",
   "execution_count": 54,
   "metadata": {},
   "outputs": [],
   "source": [
    "if all(data_reduced['Launch'].dt.year == data_reduced['Year']): # This is True\n",
    "    data_reduced = data_reduced.drop(columns=['Year'])\n",
    "    "
   ]
  },
  {
   "cell_type": "markdown",
   "metadata": {},
   "source": [
    "### 0.2.3 Extract Display technology, refresh rate from `display` column"
   ]
  },
  {
   "cell_type": "code",
   "execution_count": 55,
   "metadata": {},
   "outputs": [
    {
     "name": "stdout",
     "output_type": "stream",
     "text": [
      "176\n"
     ]
    }
   ],
   "source": [
    "def transform_display_info(info):\n",
    "    screen_tech = None\n",
    "    if 'AMOLED' in info:\n",
    "        screen_tech = 'AMOLED'\n",
    "    elif 'OLED' in info:\n",
    "        screen_tech = 'OLED'\n",
    "    elif 'LCD' in info:\n",
    "        screen_tech = 'LCD'\n",
    "    \n",
    "    screen_refresh_rate = None\n",
    "    info = info.lower()\n",
    "    if 'hz' in info:\n",
    "        idx = info.index('hz')\n",
    "        screen_refresh_rate = int(info[idx-3:idx])\n",
    "    return screen_tech, screen_refresh_rate\n",
    "\n",
    "def create_new_display_info(data):\n",
    "    data['Screen_Tech'], data['Screen_Refresh_Rate'] = zip(*data['Display_Type'].map(transform_display_info))\n",
    "    return data\n",
    "\n",
    "data_reduced = create_new_display_info(data_reduced)\n",
    "print(data_reduced['Screen_Refresh_Rate'].isnull().sum())\n",
    "data_reduced.fillna({'Screen_Refresh_Rate': 60}, inplace=True)"
   ]
  },
  {
   "cell_type": "markdown",
   "metadata": {},
   "source": [
    "### 0.2.4 Extract USB version from `usb` column\n"
   ]
  },
  {
   "cell_type": "code",
   "execution_count": 56,
   "metadata": {},
   "outputs": [
    {
     "name": "stdout",
     "output_type": "stream",
     "text": [
      "0\n",
      "21\n"
     ]
    }
   ],
   "source": [
    "def transform_usb_info(info):\n",
    "    usb_type = None\n",
    "    if 'Type-C' in info:\n",
    "        usb_type = 'Type-C'\n",
    "    elif 'micro' in info:\n",
    "        usb_type = 'Micro-USB'\n",
    "    elif 'Lightning' in info:\n",
    "        usb_type = 'Lightning'\n",
    "    \n",
    "    usb_version = None\n",
    "    if '3' in info:\n",
    "        usb_version = 3\n",
    "    elif '2' in info:\n",
    "        usb_version = 2\n",
    "    return usb_type, usb_version\n",
    "\n",
    "def create_new_usb_info(data):\n",
    "    data['USB_Type'], data['USB_Version'] = zip(*data['USB'].map(transform_usb_info))\n",
    "    return data\n",
    "\n",
    "data_reduced = create_new_usb_info(data_reduced)\n",
    "print(data_reduced['USB_Type'].isnull().sum())\n",
    "print(data_reduced['USB_Version'].isnull().sum())\n",
    "data_reduced.fillna({'USB_Type': 'Type-C', 'USB_Version': 2}, inplace=True)"
   ]
  },
  {
   "cell_type": "markdown",
   "metadata": {},
   "source": [
    "### 0.2.5 Extract color choices from `color` column"
   ]
  },
  {
   "cell_type": "code",
   "execution_count": 57,
   "metadata": {},
   "outputs": [],
   "source": [
    "data_reduced['Num_Color_Options'] = data_reduced['Colors'].map(lambda x: len(x.split(',')))"
   ]
  },
  {
   "cell_type": "markdown",
   "metadata": {},
   "source": [
    "### 0.2.6 Extract the maximum video recording resolution from `video` column"
   ]
  },
  {
   "cell_type": "code",
   "execution_count": 58,
   "metadata": {},
   "outputs": [
    {
     "name": "stdout",
     "output_type": "stream",
     "text": [
      "0\n"
     ]
    }
   ],
   "source": [
    "def transform_video_info(info):\n",
    "    info = info.split(',')\n",
    "    supported_resolutions = []\n",
    "    for i in range(len(info)):\n",
    "        if '8K' in info[i]:\n",
    "            if '30' in info[i] or '24' in info[i]:\n",
    "                supported_resolutions.append('8K@24/30fps')\n",
    "            else:\n",
    "                ValueError('8K resolution format is not recognized')\n",
    "        if '4K' in info[i]:\n",
    "            if '30' in info[i] or '24' in info[i]:\n",
    "                supported_resolutions.append('4K@24/30fps')\n",
    "            elif '60' in info[i]:\n",
    "                supported_resolutions.append('4K@60fps')\n",
    "            elif '120' in info[i]:\n",
    "                supported_resolutions.append('4K@120fps')\n",
    "            else:\n",
    "                supported_resolutions.append('4K@24/30fps')\n",
    "        if '1080' in info[i]:\n",
    "            if '30' in info[i] or '24' in info[i]:\n",
    "                supported_resolutions.append('1080p@24/30fps')\n",
    "            elif '60' in info[i]:\n",
    "                supported_resolutions.append('1080p@60fps')\n",
    "            elif '120' in info[i]:\n",
    "                supported_resolutions.append('1080p@120fps')\n",
    "            elif '240' in info[i]:\n",
    "                supported_resolutions.append('1080p@240fps')\n",
    "            else:\n",
    "                supported_resolutions.append('1080p@24/30fps')\n",
    "        if '720' in info[i] and supported_resolutions is None:\n",
    "            if '30' in info[i] or '24' in info[i]:\n",
    "                supported_resolutions.append('720p@24/30fps')\n",
    "            elif '60' in info[i]:\n",
    "                supported_resolutions.append('720p@60fps')\n",
    "            elif '120' in info[i]:\n",
    "                supported_resolutions.append('720p@120fps')\n",
    "            else:\n",
    "                ValueError('720p resolution format is not recognized')\n",
    "        if not supported_resolutions:\n",
    "            supported_resolutions.append('1080p@24/30fps')\n",
    "    return supported_resolutions\n",
    "\n",
    "def create_new_video_info(data):\n",
    "    data['Supported_Video_Resolutions'] = data['Video'].map(transform_video_info)\n",
    "    return data\n",
    "\n",
    "data_reduced = create_new_video_info(data_reduced)\n",
    "print(data_reduced['Supported_Video_Resolutions'].isnull().sum())"
   ]
  },
  {
   "cell_type": "markdown",
   "metadata": {},
   "source": [
    "### 0.2.7 Extract chipset information from `chipset` column\n",
    "Manufacurer + nm"
   ]
  },
  {
   "cell_type": "code",
   "execution_count": 59,
   "metadata": {},
   "outputs": [
    {
     "name": "stdout",
     "output_type": "stream",
     "text": [
      "0\n",
      "5\n"
     ]
    }
   ],
   "source": [
    "def transform_chipset_info(info):\n",
    "    manufacturer = info.split()[0]\n",
    "    if manufacturer == 'Mediatek':\n",
    "        manufacturer = 'MediaTek'\n",
    "    nm = None\n",
    "    # format: Manufacturer _submodel_ (Nnm)\n",
    "    if 'nm' in info:\n",
    "        nm = int(info[info.index('(')+1:info.index('nm')])\n",
    "    return manufacturer, nm\n",
    "\n",
    "def create_new_chipset_info(data):\n",
    "    data['Chipset_Manufacturer'], data['Chipset_(nm)'] = zip(*data['Chipset'].map(transform_chipset_info))\n",
    "    return data\n",
    "\n",
    "data_reduced.loc[105,'Chipset'] = 'Qualcomm Snapdragon 662 (11nm)'\n",
    "data_reduced.loc[[588, 688, 689] ,'Chipset'] = 'Mediatek Helio G99 Ultra (6nm)'\n",
    "data_reduced.loc[[622, 623],'Chipset'] = 'Mediatek Helio G81 Ultra (12nm)'\n",
    "data_reduced.loc[131,'Chipset'] = 'Kirin 9000S1 (7nm)'\n",
    "data_reduced = create_new_chipset_info(data_reduced)\n",
    "print(data_reduced['Chipset_Manufacturer'].isnull().sum())\n",
    "print(data_reduced['Chipset_(nm)'].isnull().sum())"
   ]
  },
  {
   "cell_type": "markdown",
   "metadata": {},
   "source": [
    "### 0.2.8 Extract the number of cores from `cpu` column"
   ]
  },
  {
   "cell_type": "code",
   "execution_count": 60,
   "metadata": {},
   "outputs": [
    {
     "name": "stdout",
     "output_type": "stream",
     "text": [
      "0\n"
     ]
    }
   ],
   "source": [
    "def transform_cpu_info(info):\n",
    "    if 'Hexa' in info or '6-core' in info:\n",
    "        return 6\n",
    "    elif 'Octa' in info or '8-core' in info or info == '8':\n",
    "        return 8\n",
    "    elif 'Nona' in info or '9-core' in info:\n",
    "        return 9\n",
    "    elif 'Deca' in info or '10-core' in info:\n",
    "        return 10\n",
    "    elif 'Quad' in info or '4-core' in info:\n",
    "        return 4\n",
    "    else:\n",
    "        print(info)\n",
    "        ValueError('Number of cores is not recognized')\n",
    "\n",
    "def create_new_cpu_info(data):\n",
    "    data['Num_CPU_Cores'] = data['CPU'].map(transform_cpu_info)\n",
    "    return data\n",
    "\n",
    "data_reduced = create_new_cpu_info(data_reduced)\n",
    "print(data_reduced['Num_CPU_Cores'].isnull().sum())\n"
   ]
  },
  {
   "cell_type": "markdown",
   "metadata": {},
   "source": [
    "## Save the preprocessed data"
   ]
  },
  {
   "cell_type": "code",
   "execution_count": 61,
   "metadata": {},
   "outputs": [
    {
     "data": {
      "text/plain": [
       "Index(['phone_brand', 'phone_model', 'storage', 'ram', 'Launch', 'Dimensions',\n",
       "       'Weight', 'Display_Type', 'Display_Resolution', 'NFC', 'USB', 'BATTERY',\n",
       "       'Features_Sensors', 'Colors', 'Video', 'Chipset', 'CPU', 'GPU',\n",
       "       'Foldable', 'PPI_Density', 'price_USD', 'Length', 'Width', 'Height',\n",
       "       'Ratio', 'Screen_Tech', 'Screen_Refresh_Rate', 'USB_Type',\n",
       "       'USB_Version', 'Num_Color_Options', 'Supported_Video_Resolutions',\n",
       "       'Chipset_Manufacturer', 'Chipset_(nm)', 'Num_CPU_Cores'],\n",
       "      dtype='object')"
      ]
     },
     "execution_count": 61,
     "metadata": {},
     "output_type": "execute_result"
    }
   ],
   "source": [
    "data_reduced.columns"
   ]
  },
  {
   "cell_type": "code",
   "execution_count": 62,
   "metadata": {},
   "outputs": [],
   "source": [
    "# Drop the columns that are already extracted\n",
    "columns_to_keep = ['phone_brand', 'phone_model', 'storage', 'ram', 'Launch',\n",
    "       'Weight', 'Display_Resolution', 'NFC', 'BATTERY',\n",
    "       'Features_Sensors', 'GPU',\n",
    "       'Foldable', 'PPI_Density', 'price_USD', 'Length', 'Width', 'Height',\n",
    "       'Ratio', 'Screen_Tech', 'Screen_Refresh_Rate', 'USB_Type',\n",
    "       'USB_Version', 'Num_Color_Options', 'Supported_Video_Resolutions',\n",
    "       'Chipset_Manufacturer', 'Chipset_(nm)', 'Num_CPU_Cores']\n",
    "data_reduced = data_reduced[columns_to_keep]"
   ]
  },
  {
   "cell_type": "code",
   "execution_count": 63,
   "metadata": {},
   "outputs": [],
   "source": [
    "data_reduced.to_csv('../data/cleaned_data.csv', index=False)"
   ]
  },
  {
   "cell_type": "code",
   "execution_count": 64,
   "metadata": {},
   "outputs": [],
   "source": [
    "import pandas as pd\n",
    "data_reduced = pd.read_csv('../data/cleaned_data.csv')"
   ]
  },
  {
   "cell_type": "code",
   "execution_count": null,
   "metadata": {},
   "outputs": [],
   "source": []
  }
 ],
 "metadata": {
  "kernelspec": {
   "display_name": "ml",
   "language": "python",
   "name": "python3"
  },
  "language_info": {
   "codemirror_mode": {
    "name": "ipython",
    "version": 3
   },
   "file_extension": ".py",
   "mimetype": "text/x-python",
   "name": "python",
   "nbconvert_exporter": "python",
   "pygments_lexer": "ipython3",
   "version": "3.9.20"
  }
 },
 "nbformat": 4,
 "nbformat_minor": 2
}
