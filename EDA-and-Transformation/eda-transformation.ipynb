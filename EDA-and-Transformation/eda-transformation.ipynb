{
 "cells": [
  {
   "cell_type": "code",
   "execution_count": 118,
   "metadata": {},
   "outputs": [
    {
     "data": {
      "text/plain": [
       "Index(['phone_brand', 'phone_model', 'storage', 'ram', 'Launch', 'Weight',\n",
       "       'Display_Resolution', 'NFC', 'BATTERY', 'Features_Sensors', 'GPU',\n",
       "       'Foldable', 'PPI_Density', 'price_USD', 'Length', 'Width', 'Height',\n",
       "       'Ratio', 'Screen_Tech', 'Screen_Refresh_Rate', 'USB_Type',\n",
       "       'USB_Version', 'Num_Color_Options', 'Supported_Video_Resolutions',\n",
       "       'Chipset_Manufacturer', 'Chipset_(nm)', 'Num_CPU_Cores'],\n",
       "      dtype='object')"
      ]
     },
     "execution_count": 118,
     "metadata": {},
     "output_type": "execute_result"
    }
   ],
   "source": [
    "import pandas as pd\n",
    "import numpy as np\n",
    "import matplotlib.pyplot as plt\n",
    "data = pd.read_csv('../data/cleaned_data.csv')\n",
    "data.columns"
   ]
  },
  {
   "cell_type": "markdown",
   "metadata": {},
   "source": [
    "# EDA and Data Transformation"
   ]
  },
  {
   "cell_type": "markdown",
   "metadata": {},
   "source": [
    "## 1. Distribution of columns"
   ]
  },
  {
   "cell_type": "markdown",
   "metadata": {},
   "source": [
    "### 1.1. `phone_brand`: str/ category"
   ]
  },
  {
   "cell_type": "code",
   "execution_count": 119,
   "metadata": {},
   "outputs": [
    {
     "name": "stdout",
     "output_type": "stream",
     "text": [
      "phone_brand\n",
      "xiaomi       179\n",
      "samsung      158\n",
      "motorola      67\n",
      "apple         63\n",
      "realme        36\n",
      "oneplus       31\n",
      "oppo          26\n",
      "honor         24\n",
      "google        22\n",
      "nokia         19\n",
      "huawei        17\n",
      "asus          14\n",
      "vivo          11\n",
      "sony           9\n",
      "zte            9\n",
      "nothing        8\n",
      "tecno          5\n",
      "infinix        3\n",
      "tcl            2\n",
      "htc            1\n",
      "cubot          1\n",
      "blackview      1\n",
      "dtype: int64\n",
      "phone_brand\n",
      "xiaomi      179\n",
      "samsung     158\n",
      "motorola     67\n",
      "apple        63\n",
      "realme       36\n",
      "oneplus      31\n",
      "oppo         26\n",
      "honor        24\n",
      "google       22\n",
      "nokia        19\n",
      "huawei       17\n",
      "asus         14\n",
      "vivo         11\n",
      "dtype: int64\n"
     ]
    }
   ],
   "source": [
    "groupdata = {}\n",
    "groupdata['phone_brand'] = data.groupby('phone_brand').size().sort_values(ascending=False)\n",
    "print(groupdata['phone_brand'])\n",
    "# cut the data with # of records less than 10\n",
    "drop_list = groupdata['phone_brand'][groupdata['phone_brand'] < 10].index\n",
    "data = data[~data['phone_brand'].isin(drop_list)]\n",
    "groupdata['phone_brand'] = data.groupby('phone_brand').size().sort_values(ascending=False)\n",
    "print(groupdata['phone_brand'])"
   ]
  },
  {
   "cell_type": "markdown",
   "metadata": {},
   "source": [
    "### 1.2 `storage`: int"
   ]
  },
  {
   "cell_type": "code",
   "execution_count": 98,
   "metadata": {},
   "outputs": [
    {
     "name": "stdout",
     "output_type": "stream",
     "text": [
      "Unique storage: [ 128  256  512 1000   64   32]\n"
     ]
    },
    {
     "data": {
      "text/plain": [
       "array([ 7,  8,  9, 10,  6,  5])"
      ]
     },
     "execution_count": 98,
     "metadata": {},
     "output_type": "execute_result"
    }
   ],
   "source": [
    "print('Unique storage:', data['storage'].unique())\n",
    "data['log_storage'] = np.round(np.log2(data['storage']), 0).astype(int)\n",
    "data['log_storage'].unique()"
   ]
  },
  {
   "cell_type": "markdown",
   "metadata": {},
   "source": [
    "### 1.3 `ram`: int"
   ]
  },
  {
   "cell_type": "code",
   "execution_count": 99,
   "metadata": {},
   "outputs": [
    {
     "name": "stdout",
     "output_type": "stream",
     "text": [
      "Unique ram: [ 4  6  8  3 12 16 24  2]\n"
     ]
    }
   ],
   "source": [
    "print('Unique ram:', data['ram'].unique())\n",
    "# pass"
   ]
  },
  {
   "cell_type": "markdown",
   "metadata": {},
   "source": [
    "### `Launch`: datetime"
   ]
  },
  {
   "cell_type": "code",
   "execution_count": 100,
   "metadata": {},
   "outputs": [
    {
     "data": {
      "image/png": "[encoded data removed]",
      "text/plain": [
       "<Figure size 1000x300 with 1 Axes>"
      ]
     },
     "metadata": {},
     "output_type": "display_data"
    }
   ],
   "source": [
    "data['Launch'] = pd.to_datetime(data['Launch'])\n",
    "year = data['Launch'].dt.year\n",
    "year_month = data['Launch'].dt.to_period('M')\n",
    "plt.figure(figsize=(10, 3))\n",
    "year_month.value_counts().sort_index().plot(kind='bar')\n",
    "data['Launch_month'] = year_month\n"
   ]
  },
  {
   "cell_type": "markdown",
   "metadata": {},
   "source": [
    "Every month there are new phones launched. May be the Launch date can be precise to the month. Not necessary to have the exact date.\n",
    "We can have a sliding window or something in future analysis."
   ]
  },
  {
   "cell_type": "markdown",
   "metadata": {},
   "source": [
    "### `Weight`: float"
   ]
  },
  {
   "cell_type": "code",
   "execution_count": 101,
   "metadata": {},
   "outputs": [
    {
     "data": {
      "text/html": [
       "<div>\n",
       "<style scoped>\n",
       "    .dataframe tbody tr th:only-of-type {\n",
       "        vertical-align: middle;\n",
       "    }\n",
       "\n",
       "    .dataframe tbody tr th {\n",
       "        vertical-align: top;\n",
       "    }\n",
       "\n",
       "    .dataframe thead th {\n",
       "        text-align: right;\n",
       "    }\n",
       "</style>\n",
       "<table border=\"1\" class=\"dataframe\">\n",
       "  <thead>\n",
       "    <tr style=\"text-align: right;\">\n",
       "      <th></th>\n",
       "      <th>phone_brand</th>\n",
       "      <th>phone_model</th>\n",
       "      <th>storage</th>\n",
       "      <th>ram</th>\n",
       "      <th>Launch</th>\n",
       "      <th>Weight</th>\n",
       "      <th>Display_Resolution</th>\n",
       "      <th>NFC</th>\n",
       "      <th>BATTERY</th>\n",
       "      <th>Features_Sensors</th>\n",
       "      <th>...</th>\n",
       "      <th>Screen_Refresh_Rate</th>\n",
       "      <th>USB_Type</th>\n",
       "      <th>USB_Version</th>\n",
       "      <th>Num_Color_Options</th>\n",
       "      <th>Supported_Video_Resolutions</th>\n",
       "      <th>Chipset_Manufacturer</th>\n",
       "      <th>Chipset_(nm)</th>\n",
       "      <th>Num_CPU_Cores</th>\n",
       "      <th>log_storage</th>\n",
       "      <th>Launch_month</th>\n",
       "    </tr>\n",
       "  </thead>\n",
       "  <tbody>\n",
       "  </tbody>\n",
       "</table>\n",
       "<p>0 rows × 29 columns</p>\n",
       "</div>"
      ],
      "text/plain": [
       "Empty DataFrame\n",
       "Columns: [phone_brand, phone_model, storage, ram, Launch, Weight, Display_Resolution, NFC, BATTERY, Features_Sensors, GPU, Foldable, PPI_Density, price_USD, Length, Width, Height, Ratio, Screen_Tech, Screen_Refresh_Rate, USB_Type, USB_Version, Num_Color_Options, Supported_Video_Resolutions, Chipset_Manufacturer, Chipset_(nm), Num_CPU_Cores, log_storage, Launch_month]\n",
       "Index: []\n",
       "\n",
       "[0 rows x 29 columns]"
      ]
     },
     "execution_count": 101,
     "metadata": {},
     "output_type": "execute_result"
    },
    {
     "data": {
      "image/png": "[encoded data removed]",
      "text/plain": [
       "<Figure size 1000x300 with 1 Axes>"
      ]
     },
     "metadata": {},
     "output_type": "display_data"
    }
   ],
   "source": [
    "plt.figure(figsize=(10, 3))\n",
    "plt.hist(data['Weight'], bins=60)\n",
    "data[data['Weight'] > 300]"
   ]
  },
  {
   "cell_type": "markdown",
   "metadata": {},
   "source": [
    "Some outliers (From Samsung). But most of them are around 150-250 grams.\n",
    "Weight is also a interesting feature to consider. We can try to predict it from other features."
   ]
  },
  {
   "cell_type": "markdown",
   "metadata": {},
   "source": [
    "### 1.4 `Display_Resoltion`: str"
   ]
  },
  {
   "cell_type": "code",
   "execution_count": 102,
   "metadata": {},
   "outputs": [
    {
     "data": {
      "text/plain": [
       "(array([  4.,  89.,  23.,   0.,   0.,   0.,   4.,   0.,   0.,   0.,   0.,\n",
       "          0.,   0.,   0.,   0.,   0.,   0.,   0.,   0.,   3., 281.,  65.,\n",
       "          7.,   0.,   9.,  11.,  10.,   0.,   8.,   2.,  29.,   0.,   4.,\n",
       "         18.,  13.,   3.,   5.,   0.,   5.,   8.,   1.,   0.,   0.,   5.,\n",
       "          7.,  10.,   9.,  30.,   0.,   0.,   0.,   0.,   0.,   3.,   0.,\n",
       "          0.,   0.,   0.,   0.,   1.]),\n",
       " array([1000500. , 1076343.4, 1152186.8, 1228030.2, 1303873.6, 1379717. ,\n",
       "        1455560.4, 1531403.8, 1607247.2, 1683090.6, 1758934. , 1834777.4,\n",
       "        1910620.8, 1986464.2, 2062307.6, 2138151. , 2213994.4, 2289837.8,\n",
       "        2365681.2, 2441524.6, 2517368. , 2593211.4, 2669054.8, 2744898.2,\n",
       "        2820741.6, 2896585. , 2972428.4, 3048271.8, 3124115.2, 3199958.6,\n",
       "        3275802. , 3351645.4, 3427488.8, 3503332.2, 3579175.6, 3655019. ,\n",
       "        3730862.4, 3806705.8, 3882549.2, 3958392.6, 4034236. , 4110079.4,\n",
       "        4185922.8, 4261766.2, 4337609.6, 4413453. , 4489296.4, 4565139.8,\n",
       "        4640983.2, 4716826.6, 4792670. , 4868513.4, 4944356.8, 5020200.2,\n",
       "        5096043.6, 5171887. , 5247730.4, 5323573.8, 5399417.2, 5475260.6,\n",
       "        5551104. ]),\n",
       " <BarContainer object of 60 artists>)"
      ]
     },
     "execution_count": 102,
     "metadata": {},
     "output_type": "execute_result"
    },
    {
     "data": {
      "image/png": "[encoded data removed]",
      "text/plain": [
       "<Figure size 1000x300 with 1 Axes>"
      ]
     },
     "metadata": {},
     "output_type": "display_data"
    }
   ],
   "source": [
    "def total_pixels(row):\n",
    "    w, h = [int(x) for x in row.split('x')]\n",
    "    return w * h\n",
    "data['total_pixels'] = data['Display_Resolution'].apply(total_pixels)\n",
    "plt.figure(figsize=(10, 3))\n",
    "plt.hist(data['total_pixels'], bins=60)\n"
   ]
  },
  {
   "cell_type": "markdown",
   "metadata": {},
   "source": [
    "### 1.5 `PPI_Density`: int"
   ]
  },
  {
   "cell_type": "code",
   "execution_count": 103,
   "metadata": {},
   "outputs": [
    {
     "data": {
      "text/plain": [
       "(array([ 19.,  91.,   2.,   0.,   0.,   0.,   0.,   0.,   0.,   0.,   0.,\n",
       "          0.,   8.,   0.,   0.,   0.,   0.,   0.,   0.,   0.,   0.,   5.,\n",
       "          4.,   0.,  14.,  58., 100.,  66.,  64.,  24.,   9.,   7.,   9.,\n",
       "          1.,   5.,   7.,  30.,   9.,  61.,   0.,   0.,   5.,   0.,   3.,\n",
       "          3.,   6.,   7.,   2.,   9.,   5.,   9.,  16.,   3.,   1.,   0.,\n",
       "          0.,   2.,   0.,   1.,   2.]),\n",
       " array([260.        , 265.16666667, 270.33333333, 275.5       ,\n",
       "        280.66666667, 285.83333333, 291.        , 296.16666667,\n",
       "        301.33333333, 306.5       , 311.66666667, 316.83333333,\n",
       "        322.        , 327.16666667, 332.33333333, 337.5       ,\n",
       "        342.66666667, 347.83333333, 353.        , 358.16666667,\n",
       "        363.33333333, 368.5       , 373.66666667, 378.83333333,\n",
       "        384.        , 389.16666667, 394.33333333, 399.5       ,\n",
       "        404.66666667, 409.83333333, 415.        , 420.16666667,\n",
       "        425.33333333, 430.5       , 435.66666667, 440.83333333,\n",
       "        446.        , 451.16666667, 456.33333333, 461.5       ,\n",
       "        466.66666667, 471.83333333, 477.        , 482.16666667,\n",
       "        487.33333333, 492.5       , 497.66666667, 502.83333333,\n",
       "        508.        , 513.16666667, 518.33333333, 523.5       ,\n",
       "        528.66666667, 533.83333333, 539.        , 544.16666667,\n",
       "        549.33333333, 554.5       , 559.66666667, 564.83333333,\n",
       "        570.        ]),\n",
       " <BarContainer object of 60 artists>)"
      ]
     },
     "execution_count": 103,
     "metadata": {},
     "output_type": "execute_result"
    },
    {
     "data": {
      "image/png": "[encoded data removed]",
      "text/plain": [
       "<Figure size 1000x300 with 1 Axes>"
      ]
     },
     "metadata": {},
     "output_type": "display_data"
    }
   ],
   "source": [
    "plt.figure(figsize=(10, 3))\n",
    "plt.hist(data['PPI_Density'], bins=60)"
   ]
  },
  {
   "cell_type": "markdown",
   "metadata": {},
   "source": [
    "### 1.6 `BATTERY`: int\n",
    "\\"
   ]
  },
  {
   "cell_type": "code",
   "execution_count": 104,
   "metadata": {},
   "outputs": [
    {
     "data": {
      "text/plain": [
       "(array([  4.,   2.,   2.,   0.,   8.,   6.,  19.,   5.,  16.,   4.,  26.,\n",
       "         35.,  84.,  28.,  17., 381.,   7.,   9.,   1.,  13.]),\n",
       " array([1821.  , 2029.95, 2238.9 , 2447.85, 2656.8 , 2865.75, 3074.7 ,\n",
       "        3283.65, 3492.6 , 3701.55, 3910.5 , 4119.45, 4328.4 , 4537.35,\n",
       "        4746.3 , 4955.25, 5164.2 , 5373.15, 5582.1 , 5791.05, 6000.  ]),\n",
       " <BarContainer object of 20 artists>)"
      ]
     },
     "execution_count": 104,
     "metadata": {},
     "output_type": "execute_result"
    },
    {
     "data": {
      "image/png": "[encoded data removed]",
      "text/plain": [
       "<Figure size 1000x300 with 1 Axes>"
      ]
     },
     "metadata": {},
     "output_type": "display_data"
    }
   ],
   "source": [
    "plt.figure(figsize=(10, 3))\n",
    "plt.hist(data['BATTERY'], bins=20)"
   ]
  },
  {
   "cell_type": "markdown",
   "metadata": {},
   "source": [
    "### 1.7 `Foldable`: 0-1"
   ]
  },
  {
   "cell_type": "code",
   "execution_count": 105,
   "metadata": {},
   "outputs": [
    {
     "data": {
      "text/plain": [
       "Foldable\n",
       "0    642\n",
       "1     25\n",
       "dtype: int64"
      ]
     },
     "execution_count": 105,
     "metadata": {},
     "output_type": "execute_result"
    }
   ],
   "source": [
    "data.groupby('Foldable').size()"
   ]
  },
  {
   "cell_type": "markdown",
   "metadata": {},
   "source": [
    "### 1.8 `price_USD`: float"
   ]
  },
  {
   "cell_type": "code",
   "execution_count": 106,
   "metadata": {},
   "outputs": [
    {
     "data": {
      "image/png": "[encoded data removed]",
      "text/plain": [
       "<Figure size 1000x300 with 1 Axes>"
      ]
     },
     "metadata": {},
     "output_type": "display_data"
    },
    {
     "data": {
      "image/png": "[encoded data removed]",
      "text/plain": [
       "<Figure size 1000x300 with 1 Axes>"
      ]
     },
     "metadata": {},
     "output_type": "display_data"
    }
   ],
   "source": [
    "plt.figure(figsize=(10, 3))\n",
    "plt.hist(data['price_USD'], bins=60)\n",
    "plt.show()\n",
    "plt.figure(figsize=(10, 3))\n",
    "plt.hist(np.log(data['price_USD']), bins=60)\n",
    "plt.show()"
   ]
  },
  {
   "cell_type": "markdown",
   "metadata": {},
   "source": [
    "The distribution of price is right skewed. Log-price is approximately normal."
   ]
  },
  {
   "cell_type": "markdown",
   "metadata": {},
   "source": [
    "### 1.9 `Ratio`: float"
   ]
  },
  {
   "cell_type": "code",
   "execution_count": 107,
   "metadata": {},
   "outputs": [
    {
     "data": {
      "text/plain": [
       "Ratio\n",
       "0.9      1\n",
       "1.0      1\n",
       "1.1      4\n",
       "1.2      7\n",
       "2.0     19\n",
       "2.1    246\n",
       "2.2    379\n",
       "2.3     10\n",
       "dtype: int64"
      ]
     },
     "execution_count": 107,
     "metadata": {},
     "output_type": "execute_result"
    }
   ],
   "source": [
    "data.groupby('Ratio').size()"
   ]
  },
  {
   "cell_type": "markdown",
   "metadata": {},
   "source": [
    "### 1.10 `Screen_Tech`: str/ category"
   ]
  },
  {
   "cell_type": "code",
   "execution_count": 108,
   "metadata": {},
   "outputs": [
    {
     "data": {
      "text/plain": [
       "Screen_Tech\n",
       "AMOLED    324\n",
       "LCD       222\n",
       "OLED      121\n",
       "dtype: int64"
      ]
     },
     "execution_count": 108,
     "metadata": {},
     "output_type": "execute_result"
    }
   ],
   "source": [
    "data.groupby('Screen_Tech').size()"
   ]
  },
  {
   "cell_type": "markdown",
   "metadata": {},
   "source": [
    "### 1.11 `Screen_Refresh_Rate`: str/ category"
   ]
  },
  {
   "cell_type": "code",
   "execution_count": 109,
   "metadata": {},
   "outputs": [
    {
     "data": {
      "text/plain": [
       "Screen_Refresh_Rate\n",
       "60.0     175\n",
       "90.0     150\n",
       "120.0    303\n",
       "144.0     32\n",
       "165.0      7\n",
       "dtype: int64"
      ]
     },
     "execution_count": 109,
     "metadata": {},
     "output_type": "execute_result"
    }
   ],
   "source": [
    "data.groupby('Screen_Refresh_Rate').size()"
   ]
  },
  {
   "cell_type": "markdown",
   "metadata": {},
   "source": [
    "### 1.12 `USB_Type`: str/ category"
   ]
  },
  {
   "cell_type": "code",
   "execution_count": 110,
   "metadata": {},
   "outputs": [
    {
     "data": {
      "text/plain": [
       "USB_Type\n",
       "Lightning     45\n",
       "Micro-USB     28\n",
       "Type-C       594\n",
       "dtype: int64"
      ]
     },
     "execution_count": 110,
     "metadata": {},
     "output_type": "execute_result"
    }
   ],
   "source": [
    "data.groupby('USB_Type').size()"
   ]
  },
  {
   "cell_type": "markdown",
   "metadata": {},
   "source": [
    "### 1.13 `Chipset_Manufacturer`: str/ category"
   ]
  },
  {
   "cell_type": "code",
   "execution_count": null,
   "metadata": {},
   "outputs": [
    {
     "data": {
      "text/plain": [
       "Chipset_Manufacturer\n",
       "Apple        63\n",
       "Exynos       66\n",
       "Google       20\n",
       "JLQ           2\n",
       "Kirin         7\n",
       "MediaTek    202\n",
       "Qualcomm    282\n",
       "Unisoc       25\n",
       "dtype: int64"
      ]
     },
     "execution_count": 111,
     "metadata": {},
     "output_type": "execute_result"
    }
   ],
   "source": [
    "data.groupby('Chipset_Manufacturer').size()"
   ]
  },
  {
   "cell_type": "markdown",
   "metadata": {},
   "source": [
    "### 1.14+ Other columns"
   ]
  },
  {
   "cell_type": "code",
   "execution_count": 112,
   "metadata": {},
   "outputs": [
    {
     "data": {
      "text/plain": [
       "USB_Version\n",
       "2.0    523\n",
       "3.0    144\n",
       "dtype: int64"
      ]
     },
     "execution_count": 112,
     "metadata": {},
     "output_type": "execute_result"
    }
   ],
   "source": [
    "data.groupby('USB_Version').size()"
   ]
  },
  {
   "cell_type": "code",
   "execution_count": 113,
   "metadata": {},
   "outputs": [
    {
     "data": {
      "text/plain": [
       "Num_Color_Options\n",
       "1       9\n",
       "2      99\n",
       "3     250\n",
       "4     201\n",
       "5      40\n",
       "6      38\n",
       "7       8\n",
       "8       9\n",
       "9       9\n",
       "10      3\n",
       "11      1\n",
       "dtype: int64"
      ]
     },
     "execution_count": 113,
     "metadata": {},
     "output_type": "execute_result"
    }
   ],
   "source": [
    "data.groupby('Num_Color_Options').size()"
   ]
  },
  {
   "cell_type": "code",
   "execution_count": 114,
   "metadata": {},
   "outputs": [
    {
     "data": {
      "text/plain": [
       "Chipset_(nm)\n",
       "3.0      14\n",
       "4.0     159\n",
       "5.0      80\n",
       "6.0     136\n",
       "7.0      73\n",
       "8.0      54\n",
       "10.0      8\n",
       "11.0     15\n",
       "12.0    111\n",
       "14.0      3\n",
       "22.0      3\n",
       "28.0      6\n",
       "dtype: int64"
      ]
     },
     "execution_count": 114,
     "metadata": {},
     "output_type": "execute_result"
    }
   ],
   "source": [
    "data.groupby('Chipset_(nm)').size()"
   ]
  },
  {
   "cell_type": "code",
   "execution_count": 116,
   "metadata": {},
   "outputs": [
    {
     "data": {
      "text/plain": [
       "Num_CPU_Cores\n",
       "4       3\n",
       "6      63\n",
       "8     594\n",
       "9       5\n",
       "10      2\n",
       "dtype: int64"
      ]
     },
     "execution_count": 116,
     "metadata": {},
     "output_type": "execute_result"
    }
   ],
   "source": [
    "data.groupby('Num_CPU_Cores').size()"
   ]
  },
  {
   "cell_type": "code",
   "execution_count": null,
   "metadata": {},
   "outputs": [],
   "source": []
  },
  {
   "cell_type": "code",
   "execution_count": null,
   "metadata": {},
   "outputs": [],
   "source": []
  },
  {
   "cell_type": "code",
   "execution_count": null,
   "metadata": {},
   "outputs": [],
   "source": []
  },
  {
   "cell_type": "code",
   "execution_count": null,
   "metadata": {},
   "outputs": [],
   "source": []
  },
  {
   "cell_type": "code",
   "execution_count": null,
   "metadata": {},
   "outputs": [],
   "source": []
  },
  {
   "cell_type": "code",
   "execution_count": null,
   "metadata": {},
   "outputs": [],
   "source": []
  },
  {
   "cell_type": "code",
   "execution_count": null,
   "metadata": {},
   "outputs": [],
   "source": []
  }
 ],
 "metadata": {
  "kernelspec": {
   "display_name": "ml",
   "language": "python",
   "name": "python3"
  },
  "language_info": {
   "codemirror_mode": {
    "name": "ipython",
    "version": 3
   },
   "file_extension": ".py",
   "mimetype": "text/x-python",
   "name": "python",
   "nbconvert_exporter": "python",
   "pygments_lexer": "ipython3",
   "version": "3.9.20"
  }
 },
 "nbformat": 4,
 "nbformat_minor": 2
}
